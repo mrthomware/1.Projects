{
 "cells": [
  {
   "cell_type": "code",
   "execution_count": null,
   "id": "626353b5-7170-4a5c-92c9-f32c754193f6",
   "metadata": {},
   "outputs": [],
   "source": [
    "TEMP_cOURSE"
   ]
  }
 ],
 "metadata": {
  "kernelspec": {
   "display_name": "Python 3 (ipykernel)",
   "language": "python",
   "name": "python3"
  },
  "language_info": {
   "codemirror_mode": {
    "name": "ipython",
    "version": 3
   },
   "file_extension": ".py",
   "mimetype": "text/x-python",
   "name": "python",
   "nbconvert_exporter": "python",
   "pygments_lexer": "ipython3",
   "version": "3.10.9"
  }
 },
 "nbformat": 4,
 "nbformat_minor": 5
}
